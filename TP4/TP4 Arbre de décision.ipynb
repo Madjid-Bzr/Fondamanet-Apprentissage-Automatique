{
 "cells": [
  {
   "cell_type": "code",
   "execution_count": 1,
   "id": "89742095",
   "metadata": {},
   "outputs": [],
   "source": [
    "Meteo <- c('soleil','soleil','soleil','soleil','nuages','nuages','nuages','nuages','soleil')\n",
    "Amis <- c('présents','absents','présents','absents','absents','présents','absents','présents','absents')\n",
    "Vent <- c('faible','fort','fort','faible','faible','fort','fort','faible','faible')\n",
    "Jour <- c('week-end','semaine','semaine','semaine','week-end','week-end','semaine','week-end','week-end')\n",
    "Décision <- c('oui','non','non','oui','non','non','non','oui','non')"
   ]
  },
  {
   "cell_type": "code",
   "execution_count": 2,
   "id": "d27ffe95",
   "metadata": {},
   "outputs": [],
   "source": [
    "Table <- data.frame(Meteo, Amis, Vent, Jour, Décision)"
   ]
  },
  {
   "cell_type": "code",
   "execution_count": 3,
   "id": "50a83bd5",
   "metadata": {},
   "outputs": [
    {
     "name": "stdout",
     "output_type": "stream",
     "text": [
      "   Meteo     Amis   Vent     Jour Décision\n",
      "1 soleil présents faible week-end      oui\n",
      "2 soleil  absents   fort  semaine      non\n",
      "3 soleil présents   fort  semaine      non\n",
      "4 soleil  absents faible  semaine      oui\n",
      "5 nuages  absents faible week-end      non\n",
      "6 nuages présents   fort week-end      non\n",
      "7 nuages  absents   fort  semaine      non\n",
      "8 nuages présents faible week-end      oui\n",
      "9 soleil  absents faible week-end      non\n"
     ]
    }
   ],
   "source": [
    "print(Table)"
   ]
  },
  {
   "cell_type": "code",
   "execution_count": 4,
   "id": "a3f30336",
   "metadata": {},
   "outputs": [],
   "source": [
    "MeteoFactor <- factor(Meteo)\n",
    "AmisFactor <- factor(Amis)\n",
    "JourFactor <- factor(Jour)\n",
    "VentFactor <- factor(Vent)\n",
    "DécisionFactor <- factor(Décision)"
   ]
  },
  {
   "cell_type": "code",
   "execution_count": 5,
   "id": "cd43d07b",
   "metadata": {},
   "outputs": [],
   "source": [
    "Table <- data.frame(MeteoFactor, AmisFactor, VentFactor, JourFactor, DécisionFactor)"
   ]
  },
  {
   "cell_type": "code",
   "execution_count": 6,
   "id": "fe650bb1",
   "metadata": {},
   "outputs": [
    {
     "data": {
      "text/html": [
       "<dl>\n",
       "\t<dt>$MeteoFactor</dt>\n",
       "\t\t<dd>'factor'</dd>\n",
       "\t<dt>$AmisFactor</dt>\n",
       "\t\t<dd>'factor'</dd>\n",
       "\t<dt>$VentFactor</dt>\n",
       "\t\t<dd>'factor'</dd>\n",
       "\t<dt>$JourFactor</dt>\n",
       "\t\t<dd>'factor'</dd>\n",
       "\t<dt>$DécisionFactor</dt>\n",
       "\t\t<dd>'factor'</dd>\n",
       "</dl>\n"
      ],
      "text/latex": [
       "\\begin{description}\n",
       "\\item[\\$MeteoFactor] 'factor'\n",
       "\\item[\\$AmisFactor] 'factor'\n",
       "\\item[\\$VentFactor] 'factor'\n",
       "\\item[\\$JourFactor] 'factor'\n",
       "\\item[\\$DécisionFactor] 'factor'\n",
       "\\end{description}\n"
      ],
      "text/markdown": [
       "$MeteoFactor\n",
       ":   'factor'\n",
       "$AmisFactor\n",
       ":   'factor'\n",
       "$VentFactor\n",
       ":   'factor'\n",
       "$JourFactor\n",
       ":   'factor'\n",
       "$DécisionFactor\n",
       ":   'factor'\n",
       "\n",
       "\n"
      ],
      "text/plain": [
       "$MeteoFactor\n",
       "[1] \"factor\"\n",
       "\n",
       "$AmisFactor\n",
       "[1] \"factor\"\n",
       "\n",
       "$VentFactor\n",
       "[1] \"factor\"\n",
       "\n",
       "$JourFactor\n",
       "[1] \"factor\"\n",
       "\n",
       "$DécisionFactor\n",
       "[1] \"factor\"\n"
      ]
     },
     "metadata": {},
     "output_type": "display_data"
    }
   ],
   "source": [
    "lapply(Table,class)"
   ]
  },
  {
   "cell_type": "code",
   "execution_count": 7,
   "id": "3617bd87",
   "metadata": {},
   "outputs": [],
   "source": [
    "library(rpart)# Pour l’arbre de décision\n",
    "library(rpart.plot) # Pour la représentation de l’arbre de décision"
   ]
  },
  {
   "cell_type": "code",
   "execution_count": 8,
   "id": "7122b125",
   "metadata": {},
   "outputs": [
    {
     "name": "stdout",
     "output_type": "stream",
     "text": [
      "'data.frame':\t9 obs. of  5 variables:\n",
      " $ MeteoFactor   : Factor w/ 2 levels \"nuages\",\"soleil\": 2 2 2 2 1 1 1 1 2\n",
      " $ AmisFactor    : Factor w/ 2 levels \"absents\",\"présents\": 2 1 2 1 1 2 1 2 1\n",
      " $ VentFactor    : Factor w/ 2 levels \"faible\",\"fort\": 1 2 2 1 1 2 2 1 1\n",
      " $ JourFactor    : Factor w/ 2 levels \"semaine\",\"week-end\": 2 1 1 1 2 2 1 2 2\n",
      " $ DécisionFactor: Factor w/ 2 levels \"non\",\"oui\": 2 1 1 2 1 1 1 2 1\n"
     ]
    }
   ],
   "source": [
    "str(Table)"
   ]
  },
  {
   "cell_type": "code",
   "execution_count": 18,
   "id": "9d839ec2",
   "metadata": {},
   "outputs": [
    {
     "name": "stdout",
     "output_type": "stream",
     "text": [
      "n= 9 \n",
      "\n",
      "node), split, n, loss, yval, (yprob)\n",
      "      * denotes terminal node\n",
      "\n",
      "1) root 9 3 non (0.6666667 0.3333333) *\n"
     ]
    }
   ],
   "source": [
    "arbre <- rpart(Décision ~ .,data=Table)\n",
    "print(arbre)"
   ]
  },
  {
   "cell_type": "code",
   "execution_count": 17,
   "id": "aa2b7071",
   "metadata": {},
   "outputs": [
    {
     "data": {
      "image/png": "[encoded data removed]",
      "text/plain": [
       "plot without title"
      ]
     },
     "metadata": {
      "image/png": {
       "height": 420,
       "width": 420
      }
     },
     "output_type": "display_data"
    }
   ],
   "source": [
    "rpart.plot(arbre)"
   ]
  }
 ],
 "metadata": {
  "kernelspec": {
   "display_name": "R",
   "language": "R",
   "name": "ir"
  },
  "language_info": {
   "codemirror_mode": "r",
   "file_extension": ".r",
   "mimetype": "text/x-r-source",
   "name": "R",
   "pygments_lexer": "r",
   "version": "4.1.3"
  }
 },
 "nbformat": 4,
 "nbformat_minor": 5
}
